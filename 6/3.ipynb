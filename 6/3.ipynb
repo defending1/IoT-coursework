{
 "cells": [
  {
   "cell_type": "code",
   "execution_count": 8,
   "id": "baab5131",
   "metadata": {},
   "outputs": [],
   "source": [
    "import numpy as np\n",
    "import math\n",
    "from numpy.random import default_rng\n",
    "\n",
    "b = math.sqrt(90) / 3\n",
    "r = np.random.laplace(loc=0.0, scale=b, size=1)"
   ]
  },
  {
   "cell_type": "code",
   "execution_count": 42,
   "id": "b6c46764",
   "metadata": {},
   "outputs": [],
   "source": [
    "a = np.array([95,\n",
    "88,\n",
    "80,\n",
    "91,  \n",
    "107,\n",
    "75,\n",
    "66,\n",
    "147,\n",
    "76,\n",
    "100,\n",
    "102,\n",
    "136,\n",
    "56,\n",
    "57])\n",
    "\n",
    "a.sort()\n",
    "\n",
    "h = np.array([\n",
    "    187, \n",
    "    182,\n",
    "    178,\n",
    "    182,\n",
    "    191,\n",
    "    182,\n",
    "    180,\n",
    "    185,\n",
    "    177,\n",
    "    187,\n",
    "    185,\n",
    "    182,\n",
    "    180,\n",
    "    170\n",
    "])\n",
    "h.sort()"
   ]
  },
  {
   "cell_type": "code",
   "execution_count": 43,
   "id": "e0f17afa",
   "metadata": {},
   "outputs": [
    {
     "data": {
      "text/plain": [
       "array([ 56,  57,  66,  75,  76,  80,  88,  91,  95, 100, 102, 107, 136,\n",
       "       147])"
      ]
     },
     "execution_count": 43,
     "metadata": {},
     "output_type": "execute_result"
    }
   ],
   "source": [
    "a"
   ]
  },
  {
   "cell_type": "code",
   "execution_count": 44,
   "id": "f8717b92",
   "metadata": {},
   "outputs": [],
   "source": [
    "avg = 90.84615385\n",
    "summation = a.sum()\n",
    "b = math.sqrt(1/(2 * avg) * summation)"
   ]
  },
  {
   "cell_type": "code",
   "execution_count": 45,
   "id": "8239cc89",
   "metadata": {},
   "outputs": [
    {
     "data": {
      "text/plain": [
       "2.6500682974358214"
      ]
     },
     "execution_count": 45,
     "metadata": {},
     "output_type": "execute_result"
    }
   ],
   "source": [
    "b"
   ]
  },
  {
   "cell_type": "code",
   "execution_count": 40,
   "id": "413f11e8",
   "metadata": {},
   "outputs": [],
   "source": [
    "\n",
    "\n",
    "lap = 1/(2*b) * (- abs(a) / b)"
   ]
  },
  {
   "cell_type": "code",
   "execution_count": 41,
   "id": "ae4df550",
   "metadata": {},
   "outputs": [
    {
     "data": {
      "text/plain": [
       "array([-2.8 , -2.85, -3.3 , -3.75, -3.8 , -4.  , -4.4 , -4.55, -4.75,\n",
       "       -5.  , -5.1 , -5.35, -6.8 , -7.35])"
      ]
     },
     "execution_count": 41,
     "metadata": {},
     "output_type": "execute_result"
    }
   ],
   "source": [
    "lap"
   ]
  },
  {
   "cell_type": "code",
   "execution_count": 42,
   "id": "8f58ca5a",
   "metadata": {},
   "outputs": [
    {
     "data": {
      "text/plain": [
       "-63.800000000000004"
      ]
     },
     "execution_count": 42,
     "metadata": {},
     "output_type": "execute_result"
    }
   ],
   "source": [
    "lap.sum()"
   ]
  },
  {
   "cell_type": "code",
   "execution_count": null,
   "id": "88d3ed23",
   "metadata": {},
   "outputs": [],
   "source": []
  },
  {
   "cell_type": "code",
   "execution_count": null,
   "id": "f8c324fc",
   "metadata": {},
   "outputs": [],
   "source": []
  }
 ],
 "metadata": {
  "kernelspec": {
   "display_name": "Python 3 (ipykernel)",
   "language": "python",
   "name": "python3"
  },
  "language_info": {
   "codemirror_mode": {
    "name": "ipython",
    "version": 3
   },
   "file_extension": ".py",
   "mimetype": "text/x-python",
   "name": "python",
   "nbconvert_exporter": "python",
   "pygments_lexer": "ipython3",
   "version": "3.9.8"
  }
 },
 "nbformat": 4,
 "nbformat_minor": 5
}
